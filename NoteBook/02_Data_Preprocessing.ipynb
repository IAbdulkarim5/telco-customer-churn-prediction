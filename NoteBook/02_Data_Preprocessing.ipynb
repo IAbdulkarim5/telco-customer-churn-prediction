{
 "cells": [
  {
   "cell_type": "markdown",
   "id": "0801b929",
   "metadata": {},
   "source": [
    "# Data Preprocessing\n",
    "This notebook covers the necessary preprocessing steps before building the churn prediction model.\n",
    "\n",
    "---\n",
    "\n",
    "### ✅ Next Steps:\n",
    "\n",
    "1. Handle missing values.\n",
    "2. Convert data types (e.g. TotalCharges to numeric).\n",
    "3. Encode categorical variables.\n",
    "4. Drop irrelevant features.\n",
    "5. Scale numerical features.\n",
    "6. Split the dataset into training and testing sets.\n",
    "\n",
    "\n",
    "Some of these we made it before : )"
   ]
  },
  {
   "cell_type": "markdown",
   "id": "98047dc7",
   "metadata": {},
   "source": []
  },
  {
   "cell_type": "code",
   "execution_count": 1,
   "id": "cb67f710",
   "metadata": {},
   "outputs": [],
   "source": [
    "import pandas as pd\n",
    "import numpy as np\n",
    "from sklearn.preprocessing import StandardScaler\n",
    "from sklearn.model_selection import train_test_split\n",
    "from sklearn.linear_model import LogisticRegression\n",
    "from sklearn.metrics import accuracy_score, confusion_matrix, classification_report\n",
    "from sklearn.ensemble import RandomForestClassifier\n",
    "from xgboost import XGBClassifier\n",
    "from imblearn.over_sampling import SMOTE\n",
    "from catboost import CatBoostClassifier\n",
    "import seaborn as sns\n",
    "import matplotlib.pyplot as plt\n",
    "import joblib"
   ]
  },
  {
   "cell_type": "code",
   "execution_count": 2,
   "id": "7fa5cbd5",
   "metadata": {},
   "outputs": [],
   "source": [
    "df = pd.read_csv(r'../DataSet/Telco-Customer-Churn-preprocessed.csv')"
   ]
  },
  {
   "cell_type": "code",
   "execution_count": 3,
   "id": "f5ad69b5",
   "metadata": {},
   "outputs": [
    {
     "name": "stdout",
     "output_type": "stream",
     "text": [
      "<class 'pandas.core.frame.DataFrame'>\n",
      "RangeIndex: 7032 entries, 0 to 7031\n",
      "Data columns (total 21 columns):\n",
      " #   Column            Non-Null Count  Dtype  \n",
      "---  ------            --------------  -----  \n",
      " 0   customerID        7032 non-null   object \n",
      " 1   gender            7032 non-null   object \n",
      " 2   SeniorCitizen     7032 non-null   int64  \n",
      " 3   Partner           7032 non-null   object \n",
      " 4   Dependents        7032 non-null   object \n",
      " 5   tenure            7032 non-null   int64  \n",
      " 6   PhoneService      7032 non-null   object \n",
      " 7   MultipleLines     7032 non-null   object \n",
      " 8   InternetService   7032 non-null   object \n",
      " 9   OnlineSecurity    7032 non-null   object \n",
      " 10  OnlineBackup      7032 non-null   object \n",
      " 11  DeviceProtection  7032 non-null   object \n",
      " 12  TechSupport       7032 non-null   object \n",
      " 13  StreamingTV       7032 non-null   object \n",
      " 14  StreamingMovies   7032 non-null   object \n",
      " 15  Contract          7032 non-null   object \n",
      " 16  PaperlessBilling  7032 non-null   object \n",
      " 17  PaymentMethod     7032 non-null   object \n",
      " 18  MonthlyCharges    7032 non-null   float64\n",
      " 19  TotalCharges      7032 non-null   float64\n",
      " 20  Churn             7032 non-null   object \n",
      "dtypes: float64(2), int64(2), object(17)\n",
      "memory usage: 1.1+ MB\n"
     ]
    }
   ],
   "source": [
    "df.info()"
   ]
  },
  {
   "cell_type": "code",
   "execution_count": 4,
   "id": "6d20c669",
   "metadata": {},
   "outputs": [
    {
     "data": {
      "text/plain": [
       "customerID          0\n",
       "gender              0\n",
       "SeniorCitizen       0\n",
       "Partner             0\n",
       "Dependents          0\n",
       "tenure              0\n",
       "PhoneService        0\n",
       "MultipleLines       0\n",
       "InternetService     0\n",
       "OnlineSecurity      0\n",
       "OnlineBackup        0\n",
       "DeviceProtection    0\n",
       "TechSupport         0\n",
       "StreamingTV         0\n",
       "StreamingMovies     0\n",
       "Contract            0\n",
       "PaperlessBilling    0\n",
       "PaymentMethod       0\n",
       "MonthlyCharges      0\n",
       "TotalCharges        0\n",
       "Churn               0\n",
       "dtype: int64"
      ]
     },
     "execution_count": 4,
     "metadata": {},
     "output_type": "execute_result"
    }
   ],
   "source": [
    "df.isnull().sum()"
   ]
  },
  {
   "cell_type": "markdown",
   "id": "fdeb7835",
   "metadata": {},
   "source": [
    "## Step 1: Missing Values Check ✅\n",
    "\n",
    "We inspected the dataset for missing values using `df.info()` and `df.isnull().sum()`.  \n",
    "The dataset contains **no null values**, indicating that it's already clean and ready for preprocessing.\n",
    "\n",
    "👉 No imputation or removal of rows/columns is needed for this step."
   ]
  },
  {
   "cell_type": "markdown",
   "id": "5e8a90fc",
   "metadata": {},
   "source": [
    "## Step 2: Drop Irrelevant Columns\n",
    "\n",
    "To keep our dataset clean and focused on predictive features only, we removed irrelevant columns such as `customerID` and others that showed weak correlation with churn during EDA.\n",
    "\n",
    "We retained only the most impactful features based on prior analysis:\n",
    "\n",
    "- SeniorCitizen\n",
    "- Contract\n",
    "- TechSupport\n",
    "- InternetService\n",
    "- PaymentMethod\n",
    "- Tenure\n",
    "- MonthlyCharges\n",
    "- TotalCharges\n",
    "- Churn (target variable)\n"
   ]
  },
  {
   "cell_type": "code",
   "execution_count": 5,
   "id": "ff7d27ce",
   "metadata": {},
   "outputs": [],
   "source": [
    "df = df[['SeniorCitizen', 'Contract', 'TechSupport', 'InternetService',\n",
    "         'PaymentMethod', 'tenure', 'MonthlyCharges', 'TotalCharges', 'Churn']]"
   ]
  },
  {
   "cell_type": "markdown",
   "id": "723314f0",
   "metadata": {},
   "source": [
    "## Step 3: Encoding Categorical Variables\n",
    "\n",
    "To prepare the data for machine learning models, we encoded categorical columns:\n",
    "\n",
    "- Applied **One-Hot Encoding** to the following multi-class categorical columns:\n",
    "  - Contract\n",
    "  - TechSupport\n",
    "  - InternetService\n",
    "  - PaymentMethod\n",
    "\n",
    "- Converted the target variable `Churn` from \"Yes/No\" to binary values:  \n",
    "  - `Yes` → 1  \n",
    "  - `No` → 0\n",
    "\n",
    "We also used `drop_first=True` to avoid the dummy variable trap and reduce dimensionality.\n"
   ]
  },
  {
   "cell_type": "code",
   "execution_count": 6,
   "id": "e7762837",
   "metadata": {},
   "outputs": [],
   "source": [
    "df['Churn'] = df['Churn'].map({'Yes': 1, 'No': 0})\n",
    "\n",
    "df = pd.get_dummies(df, columns=['Contract', 'TechSupport', 'InternetService', 'PaymentMethod'])\n"
   ]
  },
  {
   "cell_type": "markdown",
   "id": "697331f9",
   "metadata": {},
   "source": [
    "## Step 4: Feature Scaling\n",
    "\n",
    "We applied feature scaling to normalize the range of numerical variables.\n",
    "\n",
    "- **Why?**  \n",
    "  Machine learning algorithms like logistic regression and SVM perform better when features are on the same scale.\n",
    "\n",
    "- **How?**  \n",
    "  We used `StandardScaler` to transform the following features:\n",
    "  - `tenure`\n",
    "  - `MonthlyCharges`\n",
    "  - `TotalCharges`\n",
    "\n",
    "This transformation standardizes each feature to have a mean of 0 and a standard deviation of 1.\n"
   ]
  },
  {
   "cell_type": "code",
   "execution_count": 7,
   "id": "1247258f",
   "metadata": {},
   "outputs": [],
   "source": [
    "scaler = StandardScaler()\n",
    "\n",
    "numerical_features = ['tenure', 'MonthlyCharges', 'TotalCharges']\n",
    "\n",
    "df[numerical_features] = scaler.fit_transform(df[numerical_features])\n"
   ]
  },
  {
   "cell_type": "markdown",
   "id": "7dd8481a",
   "metadata": {},
   "source": [
    "## Step 5: Train-Test Split\n",
    "\n",
    "We divided the dataset into training and testing sets using `train_test_split`.\n",
    "\n",
    "- **Purpose:**  \n",
    "  To evaluate the model's performance on unseen data.\n",
    "\n",
    "- **Details:**\n",
    "  - 80% for training\n",
    "  - 20% for testing\n",
    "  - Stratified sampling to ensure balanced churn distribution in both sets\n"
   ]
  },
  {
   "cell_type": "code",
   "execution_count": 8,
   "id": "d2123a84",
   "metadata": {},
   "outputs": [],
   "source": [
    "x = df.drop('Churn', axis=1)\n",
    "y = df['Churn']"
   ]
  },
  {
   "cell_type": "code",
   "execution_count": 9,
   "id": "13bfb3c0",
   "metadata": {},
   "outputs": [],
   "source": [
    "X_train, X_test, y_train, y_test = train_test_split(x, y, test_size=0.2, random_state=42, stratify=y)"
   ]
  },
  {
   "cell_type": "markdown",
   "id": "785b6ae3",
   "metadata": {},
   "source": [
    "### Logistic Regression "
   ]
  },
  {
   "cell_type": "code",
   "execution_count": 10,
   "id": "4d975f67",
   "metadata": {},
   "outputs": [
    {
     "name": "stdout",
     "output_type": "stream",
     "text": [
      "Accuracy: 0.8031272210376688\n",
      "Confusion Matrix:\n",
      " [[922 111]\n",
      " [166 208]]\n",
      "Classification Report:\n",
      "               precision    recall  f1-score   support\n",
      "\n",
      "           0       0.85      0.89      0.87      1033\n",
      "           1       0.65      0.56      0.60       374\n",
      "\n",
      "    accuracy                           0.80      1407\n",
      "   macro avg       0.75      0.72      0.73      1407\n",
      "weighted avg       0.80      0.80      0.80      1407\n",
      "\n",
      "\n",
      "Threshold = 0.4\n",
      "              precision    recall  f1-score   support\n",
      "\n",
      "           0       0.88      0.82      0.84      1033\n",
      "           1       0.57      0.68      0.62       374\n",
      "\n",
      "    accuracy                           0.78      1407\n",
      "   macro avg       0.72      0.75      0.73      1407\n",
      "weighted avg       0.80      0.78      0.79      1407\n",
      "\n"
     ]
    }
   ],
   "source": [
    "log_model = LogisticRegression(max_iter=1000, random_state=42)\n",
    "log_model.fit(X_train, y_train)\n",
    "\n",
    "y_pred_log = log_model.predict(X_test)\n",
    "\n",
    "print(\"Accuracy:\", accuracy_score(y_test, y_pred_log))\n",
    "print(\"Confusion Matrix:\\n\", confusion_matrix(y_test, y_pred_log))\n",
    "print(\"Classification Report:\\n\", classification_report(y_test, y_pred_log))\n",
    "\n",
    "\n",
    "from sklearn.metrics import classification_report\n",
    "\n",
    "y_probs = log_model.predict_proba(X_test)[:, 1]\n",
    "\n",
    "for threshold in [0.4]:\n",
    "    y_pred = (y_probs >= threshold).astype(int)\n",
    "    print(f'\\nThreshold = {threshold}')\n",
    "    print(classification_report(y_test, y_pred, digits=2))\n"
   ]
  },
  {
   "cell_type": "code",
   "execution_count": 11,
   "id": "80591360",
   "metadata": {},
   "outputs": [
    {
     "data": {
      "image/png": "[encoded data removed]",
      "text/plain": [
       "<Figure size 600x400 with 2 Axes>"
      ]
     },
     "metadata": {},
     "output_type": "display_data"
    }
   ],
   "source": [
    "cm = confusion_matrix(y_test, y_pred_log)\n",
    "\n",
    "plt.figure(figsize=(6, 4))\n",
    "sns.heatmap(cm, annot=True, fmt='d', cmap='Blues',\n",
    "            xticklabels=['Predicted: No', 'Predicted: Yes'],\n",
    "            yticklabels=['Actual: No', 'Actual: Yes'])\n",
    "\n",
    "plt.title('Confusion Matrix', fontsize=14, fontweight='bold')\n",
    "plt.xlabel('Prediction', fontsize=12)\n",
    "plt.ylabel('Actual', fontsize=12)\n",
    "plt.tight_layout()\n",
    "plt.show()\n"
   ]
  },
  {
   "cell_type": "markdown",
   "id": "37de8220",
   "metadata": {},
   "source": [
    "### Try RandomForest "
   ]
  },
  {
   "cell_type": "code",
   "execution_count": 12,
   "id": "889eae10",
   "metadata": {},
   "outputs": [
    {
     "name": "stdout",
     "output_type": "stream",
     "text": [
      "Accuracy: 0.7683013503909026\n",
      "Confusion Matrix:\n",
      " [[892 141]\n",
      " [185 189]]\n",
      "Classification Report:\n",
      "               precision    recall  f1-score   support\n",
      "\n",
      "           0       0.83      0.86      0.85      1033\n",
      "           1       0.57      0.51      0.54       374\n",
      "\n",
      "    accuracy                           0.77      1407\n",
      "   macro avg       0.70      0.68      0.69      1407\n",
      "weighted avg       0.76      0.77      0.76      1407\n",
      "\n"
     ]
    }
   ],
   "source": [
    "rf_model = RandomForestClassifier(n_estimators=100, random_state=42)\n",
    "rf_model.fit(X_train, y_train)\n",
    "\n",
    "y_pred_rf = rf_model.predict(X_test)\n",
    "\n",
    "\n",
    "print(\"Accuracy:\", accuracy_score(y_test, y_pred_rf))\n",
    "print(\"Confusion Matrix:\\n\", confusion_matrix(y_test, y_pred_rf))\n",
    "print(\"Classification Report:\\n\", classification_report(y_test, y_pred_rf))\n"
   ]
  },
  {
   "cell_type": "code",
   "execution_count": 13,
   "id": "63a8d52e",
   "metadata": {},
   "outputs": [
    {
     "name": "stderr",
     "output_type": "stream",
     "text": [
      "c:\\Users\\xxabo\\AppData\\Local\\Programs\\Python\\Python312\\Lib\\site-packages\\xgboost\\core.py:158: UserWarning: [17:25:31] WARNING: C:\\buildkite-agent\\builds\\buildkite-windows-cpu-autoscaling-group-i-0c55ff5f71b100e98-1\\xgboost\\xgboost-ci-windows\\src\\learner.cc:740: \n",
      "Parameters: { \"scaler\", \"use_label_encoder\" } are not used.\n",
      "\n",
      "  warnings.warn(smsg, UserWarning)\n"
     ]
    },
    {
     "name": "stdout",
     "output_type": "stream",
     "text": [
      "Accuracy: 0.7562189054726368\n",
      "Confusion Matrix:\n",
      " [[876 157]\n",
      " [186 188]]\n",
      "Classification Report:\n",
      "               precision    recall  f1-score   support\n",
      "\n",
      "           0       0.82      0.85      0.84      1033\n",
      "           1       0.54      0.50      0.52       374\n",
      "\n",
      "    accuracy                           0.76      1407\n",
      "   macro avg       0.68      0.68      0.68      1407\n",
      "weighted avg       0.75      0.76      0.75      1407\n",
      "\n"
     ]
    }
   ],
   "source": [
    "xgb_model = XGBClassifier(\n",
    "    n_estimators=1200,\n",
    "    max_depth=6,\n",
    "    learning_rate=0.1,\n",
    "    objective='binary:logistic',  \n",
    "    use_label_encoder=False,\n",
    "    eval_metric='logloss',\n",
    "    scaler=StandardScaler(),\n",
    "    random_state=42\n",
    ")\n",
    "\n",
    "xgb_model.fit(X_train, y_train)\n",
    "\n",
    "y_pred_xgb = xgb_model.predict(X_test)\n",
    "\n",
    "print(\"Accuracy:\", accuracy_score(y_test, y_pred_xgb))\n",
    "print(\"Confusion Matrix:\\n\", confusion_matrix(y_test, y_pred_xgb))\n",
    "print(\"Classification Report:\\n\", classification_report(y_test, y_pred_xgb))"
   ]
  },
  {
   "cell_type": "code",
   "execution_count": null,
   "id": "6edb872e",
   "metadata": {},
   "outputs": [
    {
     "data": {
      "text/plain": [
       "['../Models/xgboost_Before_SMOTE.pkl']"
      ]
     },
     "execution_count": 14,
     "metadata": {},
     "output_type": "execute_result"
    }
   ],
   "source": [
    "# Logistic Regression\n",
    "joblib.dump(log_model, '../Models/Best_Model_Logistic_Before_SMOTE.pkl')\n",
    "\n",
    "# Random Forest\n",
    "joblib.dump(rf_model, '../Models/RandomForest_Before_SMOTE.pkl')\n",
    "\n",
    "# XGBoost\n",
    "joblib.dump(xgb_model, '../Models/xgboost_Before_SMOTE.pkl')\n"
   ]
  },
  {
   "cell_type": "markdown",
   "id": "c56a1e64",
   "metadata": {},
   "source": [
    "#### WE USING SMOTE Cuz as we can see we have problem with the customers who's leave SO SMOTE will make it balance"
   ]
  },
  {
   "cell_type": "code",
   "execution_count": 15,
   "id": "2249a376",
   "metadata": {},
   "outputs": [
    {
     "name": "stdout",
     "output_type": "stream",
     "text": [
      "Churn\n",
      "0    4130\n",
      "1    1495\n",
      "Name: count, dtype: int64\n",
      "Churn\n",
      "0    4130\n",
      "1    4130\n",
      "Name: count, dtype: int64\n"
     ]
    },
    {
     "name": "stderr",
     "output_type": "stream",
     "text": [
      "c:\\Users\\xxabo\\AppData\\Local\\Programs\\Python\\Python312\\Lib\\site-packages\\sklearn\\base.py:474: FutureWarning: `BaseEstimator._validate_data` is deprecated in 1.6 and will be removed in 1.7. Use `sklearn.utils.validation.validate_data` instead. This function becomes public and is part of the scikit-learn developer API.\n",
      "  warnings.warn(\n",
      "c:\\Users\\xxabo\\AppData\\Local\\Programs\\Python\\Python312\\Lib\\site-packages\\sklearn\\utils\\_tags.py:354: FutureWarning: The SMOTE or classes from which it inherits use `_get_tags` and `_more_tags`. Please define the `__sklearn_tags__` method, or inherit from `sklearn.base.BaseEstimator` and/or other appropriate mixins such as `sklearn.base.TransformerMixin`, `sklearn.base.ClassifierMixin`, `sklearn.base.RegressorMixin`, and `sklearn.base.OutlierMixin`. From scikit-learn 1.7, not defining `__sklearn_tags__` will raise an error.\n",
      "  warnings.warn(\n"
     ]
    }
   ],
   "source": [
    "smote = SMOTE(random_state=42)\n",
    "\n",
    "X_train_sm, y_train_sm = smote.fit_resample(X_train, y_train)\n",
    "\n",
    "print(y_train.value_counts())      # before\n",
    "print(y_train_sm.value_counts())   # after"
   ]
  },
  {
   "cell_type": "code",
   "execution_count": 16,
   "id": "a617a3a2",
   "metadata": {},
   "outputs": [
    {
     "name": "stdout",
     "output_type": "stream",
     "text": [
      "Accuracy: 0.7235252309879175\n",
      "Confusion Matrix:\n",
      " [[721 312]\n",
      " [ 77 297]]\n",
      "Classification Report:\n",
      "               precision    recall  f1-score   support\n",
      "\n",
      "           0       0.90      0.70      0.79      1033\n",
      "           1       0.49      0.79      0.60       374\n",
      "\n",
      "    accuracy                           0.72      1407\n",
      "   macro avg       0.70      0.75      0.70      1407\n",
      "weighted avg       0.79      0.72      0.74      1407\n",
      "\n"
     ]
    }
   ],
   "source": [
    "logs_model = LogisticRegression(random_state=42, max_iter=1000, )\n",
    "logs_model.fit(X_train_sm, y_train_sm)\n",
    "\n",
    "y_pred_log = logs_model.predict(X_test)\n",
    "\n",
    "print(\"Accuracy:\", accuracy_score(y_test, y_pred_log))\n",
    "print(\"Confusion Matrix:\\n\", confusion_matrix(y_test, y_pred_log))\n",
    "print(\"Classification Report:\\n\", classification_report(y_test, y_pred_log))"
   ]
  },
  {
   "cell_type": "code",
   "execution_count": 17,
   "id": "b5bcd8ec",
   "metadata": {},
   "outputs": [
    {
     "name": "stderr",
     "output_type": "stream",
     "text": [
      "c:\\Users\\xxabo\\AppData\\Local\\Programs\\Python\\Python312\\Lib\\site-packages\\xgboost\\core.py:158: UserWarning: [17:25:32] WARNING: C:\\buildkite-agent\\builds\\buildkite-windows-cpu-autoscaling-group-i-0c55ff5f71b100e98-1\\xgboost\\xgboost-ci-windows\\src\\learner.cc:740: \n",
      "Parameters: { \"use_label_encoder\" } are not used.\n",
      "\n",
      "  warnings.warn(smsg, UserWarning)\n"
     ]
    },
    {
     "name": "stdout",
     "output_type": "stream",
     "text": [
      "Accuracy: 0.7427149964463398\n",
      "Confusion Matrix:\n",
      " [[815 218]\n",
      " [144 230]]\n",
      "Classification Report:\n",
      "               precision    recall  f1-score   support\n",
      "\n",
      "           0       0.85      0.79      0.82      1033\n",
      "           1       0.51      0.61      0.56       374\n",
      "\n",
      "    accuracy                           0.74      1407\n",
      "   macro avg       0.68      0.70      0.69      1407\n",
      "weighted avg       0.76      0.74      0.75      1407\n",
      "\n"
     ]
    }
   ],
   "source": [
    "xgb_model_sm = XGBClassifier(\n",
    "    n_estimators=1200,\n",
    "    max_depth=6,\n",
    "    learning_rate=0.1,\n",
    "    objective='binary:logistic',\n",
    "    use_label_encoder=False,\n",
    "    eval_metric='logloss',\n",
    "    random_state=42\n",
    ")\n",
    "\n",
    "xgb_model_sm.fit(X_train_sm, y_train_sm)\n",
    "\n",
    "\n",
    "y_pred_xgb_sm = xgb_model_sm.predict(X_test)\n",
    "\n",
    "print(\"Accuracy:\", accuracy_score(y_test, y_pred_xgb_sm))\n",
    "print(\"Confusion Matrix:\\n\", confusion_matrix(y_test, y_pred_xgb_sm))\n",
    "print(\"Classification Report:\\n\", classification_report(y_test, y_pred_xgb_sm))\n"
   ]
  },
  {
   "cell_type": "code",
   "execution_count": 18,
   "id": "a2043581",
   "metadata": {},
   "outputs": [
    {
     "name": "stdout",
     "output_type": "stream",
     "text": [
      "Accuracy: 0.7370291400142146\n",
      "Confusion Matrix:\n",
      " [[815 218]\n",
      " [152 222]]\n",
      "Classification Report:\n",
      "               precision    recall  f1-score   support\n",
      "\n",
      "           0       0.84      0.79      0.81      1033\n",
      "           1       0.50      0.59      0.55       374\n",
      "\n",
      "    accuracy                           0.74      1407\n",
      "   macro avg       0.67      0.69      0.68      1407\n",
      "weighted avg       0.75      0.74      0.74      1407\n",
      "\n"
     ]
    }
   ],
   "source": [
    "RandomForestSMOTE = RandomForestClassifier(\n",
    "    n_estimators=100,\n",
    "    random_state=42\n",
    ")\n",
    "\n",
    "RandomForestSMOTE.fit(X_train_sm, y_train_sm)\n",
    "\n",
    "y_pred_rf_sm = RandomForestSMOTE.predict(X_test)\n",
    "\n",
    "print(\"Accuracy:\", accuracy_score(y_test, y_pred_rf_sm))\n",
    "print(\"Confusion Matrix:\\n\", confusion_matrix(y_test, y_pred_rf_sm))\n",
    "print(\"Classification Report:\\n\", classification_report(y_test, y_pred_rf_sm))"
   ]
  },
  {
   "cell_type": "markdown",
   "id": "80ae375f",
   "metadata": {},
   "source": [
    "#### Save our models After we using SMOTE "
   ]
  },
  {
   "cell_type": "code",
   "execution_count": 19,
   "id": "463d1a68",
   "metadata": {},
   "outputs": [
    {
     "data": {
      "text/plain": [
       "['../Models/RandomForest_After_SMOTE.pkl']"
      ]
     },
     "execution_count": 19,
     "metadata": {},
     "output_type": "execute_result"
    }
   ],
   "source": [
    "joblib.dump(logs_model, '../Models/Logistic_After_SMOTE.pkl')\n",
    "joblib.dump(xgb_model_sm, '../Models/xgboost_after_SMOTE.pkl')\n",
    "joblib.dump(RandomForestSMOTE, '../Models/RandomForest_After_SMOTE.pkl')"
   ]
  },
  {
   "cell_type": "code",
   "execution_count": 20,
   "id": "44a516ed",
   "metadata": {},
   "outputs": [
    {
     "name": "stdout",
     "output_type": "stream",
     "text": [
      "Churn = 0\n",
      "       SeniorCitizen       tenure  MonthlyCharges  TotalCharges   Churn\n",
      "count    5163.000000  5163.000000     5163.000000   5163.000000  5163.0\n",
      "mean        0.128995     0.213019       -0.116036      0.120022     0.0\n",
      "std         0.335227     0.980990        1.033597      1.027727     0.0\n",
      "min         0.000000    -1.280248       -1.547283     -0.999069     0.0\n",
      "25%         0.000000    -0.709833       -1.319586     -0.752434     0.0\n",
      "50%         0.000000     0.227279       -0.011575     -0.264580     0.0\n",
      "75%         0.000000     1.164390        0.787027      0.873915     0.0\n",
      "max         1.000000     1.612573        1.793381      2.818813     0.0\n",
      "\n",
      "Churn = 1\n",
      "       SeniorCitizen       tenure  MonthlyCharges  TotalCharges   Churn\n",
      "count    1869.000000  1869.000000     1869.000000   1869.000000  1869.0\n",
      "mean        0.254682    -0.588451        0.320542     -0.331554     1.0\n",
      "std         0.435799     0.795775        0.819911      0.834207     0.0\n",
      "min         0.000000    -1.280248       -1.527339     -0.999047     1.0\n",
      "25%         0.000000    -1.239504       -0.287470     -0.948024     1.0\n",
      "50%         0.000000    -0.913552        0.493680     -0.696966     1.0\n",
      "75%         1.000000    -0.139417        0.977329      0.021177     1.0\n",
      "max         1.000000     1.612573        1.780085      2.824261     1.0\n"
     ]
    }
   ],
   "source": [
    "print(\"Churn = 0\")\n",
    "print(df[df['Churn'] == 0].describe())\n",
    "\n",
    "print(\"\\nChurn = 1\")\n",
    "print(df[df['Churn'] == 1].describe())\n"
   ]
  },
  {
   "cell_type": "markdown",
   "id": "271afdc5",
   "metadata": {},
   "source": [
    "#### Feature Engineering"
   ]
  },
  {
   "cell_type": "code",
   "execution_count": 21,
   "id": "10012337",
   "metadata": {},
   "outputs": [],
   "source": [
    "df['short_term_customer'] = (df['tenure'] < threshold).astype(int)\n",
    "df['high_monthly_charge'] = (df['MonthlyCharges'] > df['MonthlyCharges'].median()).astype(int)\n",
    "df['risk_score'] = (\n",
    "    df['short_term_customer'] +\n",
    "    df['high_monthly_charge'] +\n",
    "    df['SeniorCitizen']\n",
    ")\n",
    "\n",
    "df['avg_monthly_payment'] = df['TotalCharges'] / (df['tenure'] + 1e-5)\n"
   ]
  },
  {
   "cell_type": "code",
   "execution_count": null,
   "id": "ee4f09b3",
   "metadata": {},
   "outputs": [],
   "source": [
    "ScaleFeatures = ['avg_monthly_payment']  \n",
    "\n",
    "scaler = StandardScaler()\n",
    "df_scaled = df.copy()\n",
    "df_scaled[ScaleFeatures] = scaler.fit_transform(df_scaled[ScaleFeatures])\n"
   ]
  },
  {
   "cell_type": "code",
   "execution_count": null,
   "id": "c5f25010",
   "metadata": {},
   "outputs": [],
   "source": [
    "xe = df.drop('Churn', axis=1)\n",
    "ye = df['Churn']"
   ]
  },
  {
   "cell_type": "code",
   "execution_count": null,
   "id": "9c2ee0e9",
   "metadata": {},
   "outputs": [
    {
     "name": "stdout",
     "output_type": "stream",
     "text": [
      "Accuracy: 0.7903340440653873\n",
      "Confusion Matrix:\n",
      " [[922 111]\n",
      " [184 190]]\n",
      "Classification Report:\n",
      "               precision    recall  f1-score   support\n",
      "\n",
      "           0       0.83      0.89      0.86      1033\n",
      "           1       0.63      0.51      0.56       374\n",
      "\n",
      "    accuracy                           0.79      1407\n",
      "   macro avg       0.73      0.70      0.71      1407\n",
      "weighted avg       0.78      0.79      0.78      1407\n",
      "\n"
     ]
    }
   ],
   "source": [
    "X_train, X_test, y_train, y_test = train_test_split(xe, ye, test_size=0.2, random_state=42)\n",
    "\n",
    "log_model_newFeatures = LogisticRegression(max_iter=1000, random_state=42)\n",
    "log_model.fit(X_train, y_train)\n",
    "\n",
    "y_pred_log = log_model.predict(X_test)\n",
    "\n",
    "print(\"Accuracy:\", accuracy_score(y_test, y_pred_log))\n",
    "print(\"Confusion Matrix:\\n\", confusion_matrix(y_test, y_pred_log))\n",
    "print(\"Classification Report:\\n\", classification_report(y_test, y_pred_log))"
   ]
  },
  {
   "cell_type": "code",
   "execution_count": 41,
   "id": "2ef12e33",
   "metadata": {},
   "outputs": [
    {
     "name": "stdout",
     "output_type": "stream",
     "text": [
      "Accuracy: 0.7505330490405118\n",
      "Confusion Matrix:\n",
      " [[793 240]\n",
      " [111 263]]\n",
      "Classification Report:\n",
      "               precision    recall  f1-score   support\n",
      "\n",
      "           0       0.88      0.77      0.82      1033\n",
      "           1       0.52      0.70      0.60       374\n",
      "\n",
      "    accuracy                           0.75      1407\n",
      "   macro avg       0.70      0.74      0.71      1407\n",
      "weighted avg       0.78      0.75      0.76      1407\n",
      "\n"
     ]
    },
    {
     "name": "stderr",
     "output_type": "stream",
     "text": [
      "c:\\Users\\xxabo\\AppData\\Local\\Programs\\Python\\Python312\\Lib\\site-packages\\xgboost\\core.py:158: UserWarning: [17:33:43] WARNING: C:\\buildkite-agent\\builds\\buildkite-windows-cpu-autoscaling-group-i-0c55ff5f71b100e98-1\\xgboost\\xgboost-ci-windows\\src\\learner.cc:740: \n",
      "Parameters: { \"use_label_encoder\" } are not used.\n",
      "\n",
      "  warnings.warn(smsg, UserWarning)\n"
     ]
    }
   ],
   "source": [
    "XGboost_model = XGBClassifier(scale_pos_weight=3, random_state=42, use_label_encoder=False, eval_metric='logloss')\n",
    "XGboost_model.fit(X_train, y_train)\n",
    "\n",
    "y_pred_xgb = XGboost_model.predict(X_test)\n",
    "\n",
    "print(\"Accuracy:\", accuracy_score(y_test, y_pred_xgb))\n",
    "print(\"Confusion Matrix:\\n\", confusion_matrix(y_test, y_pred_xgb))\n",
    "print(\"Classification Report:\\n\", classification_report(y_test, y_pred_xgb))"
   ]
  },
  {
   "cell_type": "code",
   "execution_count": null,
   "id": "d48e7c3b",
   "metadata": {},
   "outputs": [
    {
     "data": {
      "text/plain": [
       "['../Models/SecBestModel_XGboost_with_Features_Engineering.pkl']"
      ]
     },
     "execution_count": 26,
     "metadata": {},
     "output_type": "execute_result"
    }
   ],
   "source": [
    "joblib.dump(XGboost_model, '../Models/SecBestModel_XGboost_with_Features_Engineering.pkl')\n",
    "joblib.dump(log_model_newFeatures, '../Models/Model_Logistic_with_Features_Engineering.pkl')"
   ]
  },
  {
   "cell_type": "code",
   "execution_count": null,
   "id": "14a4f11c",
   "metadata": {},
   "outputs": [],
   "source": []
  }
 ],
 "metadata": {
  "kernelspec": {
   "display_name": "Python 3",
   "language": "python",
   "name": "python3"
  },
  "language_info": {
   "codemirror_mode": {
    "name": "ipython",
    "version": 3
   },
   "file_extension": ".py",
   "mimetype": "text/x-python",
   "name": "python",
   "nbconvert_exporter": "python",
   "pygments_lexer": "ipython3",
   "version": "3.12.0"
  }
 },
 "nbformat": 4,
 "nbformat_minor": 5
}
